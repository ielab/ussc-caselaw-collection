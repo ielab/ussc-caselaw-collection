{
 "cells": [
  {
   "cell_type": "code",
   "execution_count": 1,
   "metadata": {
    "collapsed": true
   },
   "outputs": [],
   "source": [
    "# import everything as needed\n",
    "%matplotlib inline\n",
    "# %matplotlib notebook\n",
    "\n",
    "import numpy as np\n",
    "from matplotlib import pyplot as plt\n",
    "import matplotlib as mpl\n",
    "import pandas as pd\n",
    "import seaborn as sns\n",
    "import scipy.stats as stats\n",
    "import math\n",
    "import json\n",
    "import re\n",
    "import string\n",
    "from matplotlib.artist import setp\n",
    "\n",
    "from operator import itemgetter\n",
    "\n",
    "from irkit.trec import qrels\n",
    "from irkit.trec import results\n",
    "from irkit.trec import run\n",
    "from irkit.query import elasticsearch as eq\n",
    "\n",
    "from elasticsearch import Elasticsearch\n",
    "from elasticsearch import client\n",
    "\n",
    "PORT = 9200\n",
    "INDEX = \"ussc\"\n",
    "\n",
    "es = Elasticsearch(urls='http://localhost', port=PORT, timeout=600)\n",
    "es_client = client.IndicesClient(es)\n",
    "\n",
    "from IPython.display import set_matplotlib_formats\n",
    "# To get all the plots in pdf, change this to 'pdf'!\n",
    "set_matplotlib_formats('pdf')\n",
    "\n",
    "# Set general plot properties.\n",
    "sns.set()\n",
    "sns.set_context(\"paper\")\n",
    "sns.set_color_codes(\"pastel\")\n",
    "\n",
    "sns.set_context({\"figure.figsize\": (16, 10)})\n",
    "plt.style.use('grayscale')\n",
    "plt.style.use('seaborn-white')"
   ]
  },
  {
   "cell_type": "markdown",
   "metadata": {
    "collapsed": true
   },
   "source": [
    "First of all, we need to extract and transform data from the topic."
   ]
  },
  {
   "cell_type": "code",
   "execution_count": 2,
   "metadata": {
    "collapsed": true
   },
   "outputs": [],
   "source": [
    "def remove_stop(text):\n",
    "    a_bod = {\n",
    "    \"analyzer\": \"stop\",\n",
    "    \"text\": text\n",
    "    }\n",
    "    final_text = \"\"\n",
    "    res = es_client.analyze(index=INDEX, body=a_bod)\n",
    "    for i in range(len(res[\"tokens\"])):\n",
    "        final_text = final_text + \" \" + res[\"tokens\"][i][\"token\"]\n",
    "    return final_text\n",
    "\n",
    "def clean_text(text):\n",
    "    return re.sub('[^a-zA-Z0-9]+', ' ', text).lower()\n",
    "\n",
    "def get_numbers(text):\n",
    "    return re.sub('[^0-9]+', ' ', text).lstrip().rstrip()\n",
    "\n",
    "topics = {}\n",
    "for i in range(1, 101):\n",
    "    with open('../../airs2017-collection/topic/{}.json'.format(i)) as f:\n",
    "        topic = json.load(f)\n",
    "\n",
    "    queries = topic['es_query'] # Elasticsearch DSL query\n",
    "    relevant_keywords = topic['relevant_keywords'] # Relevant keywords query\n",
    "    \n",
    "    citing_sentence = topic['citing_sentence'] # Citing sentence (plain text)\n",
    "    citing_paragraph = topic['citing_paragraph'] # Citing paragrah (plain text)\n",
    "    case_extract = topic['case_extract'] # Sentences removed from the citing sentence\n",
    "\n",
    "    # Remove citing sentences.\n",
    "    for sentence in case_extract:\n",
    "        citing_sentence = citing_sentence.replace(sentence, '')\n",
    "        citing_paragraph = citing_paragraph.replace(sentence, '')\n",
    "\n",
    "    # !! Add `0-9` back in to re-introduce numbers !!\n",
    "    numbers = get_numbers(citing_sentence)\n",
    "    citing_sentence = clean_text(citing_sentence)\n",
    "    citing_sentence = remove_stop(citing_sentence)\n",
    "    citing_sentence = citing_sentence + \" \" + numbers\n",
    "    sent_tokens = set(citing_sentence.split())\n",
    "    \n",
    "    numbers = get_numbers(citing_paragraph)\n",
    "    citing_paragraph = clean_text(citing_paragraph)\n",
    "    citing_paragraph = remove_stop(citing_paragraph)\n",
    "    citing_paragraph = citing_paragraph + \" \" + numbers\n",
    "    para_tokens = set(citing_paragraph.split())\n",
    "\n",
    "    # Tokenise and remove stopwords.\n",
    "    keywords = \" \".join(relevant_keywords)\n",
    "    keywords = clean_text(keywords)\n",
    "    keywords = set(keywords.split())\n",
    "    relevant_tokens = list(keywords)\n",
    "\n",
    "    topics[topic['id']] = {'queries': queries, \n",
    "                           'sentence_tokens': sent_tokens, \n",
    "                           'paragraph_tokens': para_tokens,\n",
    "                          'keyword_tokens': relevant_tokens}"
   ]
  },
  {
   "cell_type": "markdown",
   "metadata": {},
   "source": [
    "Once we have the tokens, we can work out extracting the keywords from both the manual and automatic queries. For the manual queries, we will create a visitor to find the leaf nodes in the query DSL and add them into our existing data struture. For the automatic queries, we can use the intermediate representation to do so."
   ]
  },
  {
   "cell_type": "code",
   "execution_count": 3,
   "metadata": {
    "collapsed": true
   },
   "outputs": [],
   "source": [
    "keys = ['idfp_auto_query_terms', 'idfs_auto_query_terms', 'klis_auto_query_terms', 'klip_auto_query_terms',\n",
    "        'plms_5_auto_query_terms','plmp_5_auto_query_terms']\n",
    "\n",
    "class MultiMatchAppenderVisitor(eq.Visitor):\n",
    "    def __init__(self, node_name):\n",
    "        super().__init__(node_name)\n",
    "        self.result = []\n",
    "    \n",
    "    def visit(self, node):\n",
    "        self.result.append(node[self.node_name]['query'])\n",
    "\n",
    "# Process the manual query.\n",
    "for topic_id, topic_data in topics.items():\n",
    "    # Use the visitor to extract the query terms.\n",
    "    query_terms = set()\n",
    "    queries = []\n",
    "    for query in topic_data['queries']:\n",
    "        query_terms = query_terms.union(set(eq.traverse(query, MultiMatchAppenderVisitor('multi_match'))))\n",
    "        queries.append(list(set([i for s in [re.sub('[^a-zA-Z0-9]+', ' ', x).split() for x in list(query_terms)] for i in s])))\n",
    "    # Process the query terms to make them tokens.\n",
    "    topic_data['query_tokens'] = queries\n",
    "    \n",
    "# Process each `automatic` query.\n",
    "for i in range(1, 101):\n",
    "    for t in keys:\n",
    "        with open('../auto-generation/queries/{}_{}.json'.format(i, t), 'r') as f:\n",
    "            query = json.load(f)\n",
    "            queries = query['auto_generated_queries']\n",
    "            \n",
    "            topics[queries['topic']][t] = queries['query']"
   ]
  },
  {
   "cell_type": "markdown",
   "metadata": {},
   "source": [
    "Now that we have extracted the tokens from both the the manually constructed queries and the automatically generated ones, we can perform the analysis."
   ]
  },
  {
   "cell_type": "code",
   "execution_count": 4,
   "metadata": {
    "collapsed": true,
    "scrolled": false
   },
   "outputs": [],
   "source": [
    "def calculate_overlap(tokens, sentence_tokens):\n",
    "    \"\"\" \n",
    "    The proportion of the number of tokens in the query that also are in the sentence, \n",
    "    divided by the number of tokens in the sentence\n",
    "    \"\"\"\n",
    "    return len(set(tokens).intersection(set(sentence_tokens)))/len(sentence_tokens)"
   ]
  },
  {
   "cell_type": "code",
   "execution_count": 5,
   "metadata": {
    "collapsed": true
   },
   "outputs": [],
   "source": [
    "def check_methods():\n",
    "    for i in range(1, 101):\n",
    "        for j in range(0, 11):\n",
    "            \n",
    "            idfp = calculate_overlap(topics[i]['idfp_auto_query_terms'][j]['terms'], topics[i]['paragraph_tokens'])\n",
    "            plmp = calculate_overlap(topics[i]['plmp_5_auto_query_terms'][j]['terms'], topics[i]['paragraph_tokens'])\n",
    "            klip = calculate_overlap(topics[i]['klip_auto_query_terms'][j]['terms'], topics[i]['paragraph_tokens'])\n",
    "\n",
    "            idfs = calculate_overlap(topics[i]['idfs_auto_query_terms'][j]['terms'], topics[i]['sentence_tokens'])\n",
    "            plms = calculate_overlap(topics[i]['plms_5_auto_query_terms'][j]['terms'], topics[i]['sentence_tokens'])\n",
    "            klis = calculate_overlap(topics[i]['klis_auto_query_terms'][j]['terms'], topics[i]['sentence_tokens'])\n",
    "            \n",
    "            if idfp != plmp or plmp != klip or idfp != klip:\n",
    "                print(\"*\"*30)\n",
    "                print(\"Para mismatch\")\n",
    "                print(\"Topic -\", i, \"- proportion -\", j)\n",
    "                print(idfp, plmp, klip)\n",
    "                print(len(topics[i]['idfp_auto_query_terms'][j]['terms']), \n",
    "                      len(topics[i]['plmp_5_auto_query_terms'][j]['terms']),\n",
    "                      len(topics[i]['klip_auto_query_terms'][j]['terms']))\n",
    "                print(\"Difference -\", set(topics[i]['paragraph_tokens']).difference(set(topics[i]['idfp_auto_query_terms'][j]['terms'])))\n",
    "                print(\"Difference -\", set(topics[i]['idfp_auto_query_terms'][j]['terms']).difference(set(topics[i]['klip_auto_query_terms'][j]['terms'])))\n",
    "            \n",
    "            if idfs != plms or plms != klis or idfs != klis:\n",
    "                print(\"*\"*30)\n",
    "                print(\"Topic -\", i, \"- proportion -\", j)\n",
    "                print(idfs, plms, klis)\n",
    "\n",
    "check_methods()"
   ]
  },
  {
   "cell_type": "code",
   "execution_count": 6,
   "metadata": {
    "collapsed": true,
    "scrolled": false
   },
   "outputs": [],
   "source": [
    "def fill_empty_row(df):\n",
    "    topic_not_found = set()\n",
    "    for i in range(1, 101):\n",
    "        topic_not_found.add(i)\n",
    "\n",
    "    for row in df.iterrows():\n",
    "        topic_not_found.remove(row[0])\n",
    "        \n",
    "    num_colls = len(df.columns)\n",
    "    \n",
    "    for row in topic_not_found: \n",
    "        df.loc[row] = (0) * num_colls\n",
    "\n",
    "        \n",
    "#find the file that contains the best AP_5 score for the topic\n",
    "def get_best_run():\n",
    "    best_runs = {}\n",
    "    for i in range(1, 101):\n",
    "        best_runs[i] = {'score': 0, 'query': 0}\n",
    "    \n",
    "    runs = range(1, 4)\n",
    "    for run in runs:  \n",
    "        with open('res-files/{}{}_standard.csv'.format(\"adhocbool\", run), 'r') as f:\n",
    "            df = pd.DataFrame.from_csv(f)\n",
    "            fill_empty_row(df)\n",
    "            for y in df.iterrows():\n",
    "                if best_runs[y[0]]['score'] < y[1][' map']:\n",
    "                    best_runs[y[0]]['score'] = y[1][' map']\n",
    "                    best_runs[y[0]]['query'] = run - 1\n",
    "                    \n",
    "    return best_runs\n",
    "\n",
    "\n",
    "                    "
   ]
  },
  {
   "cell_type": "code",
   "execution_count": 7,
   "metadata": {
    "collapsed": true
   },
   "outputs": [],
   "source": [
    "keys = ['idfs_auto_query_terms', 'idfp_auto_query_terms', 'klis_auto_query_terms', 'klip_auto_query_terms',\n",
    "        'plms_5_auto_query_terms','plmp_5_auto_query_terms']\n",
    "run_names = [\"idfs\",\"idfp\",\"klis\",\"klip\",\"plms\",\"plmp\"]\n",
    "     "
   ]
  },
  {
   "cell_type": "code",
   "execution_count": 8,
   "metadata": {
    "collapsed": true
   },
   "outputs": [],
   "source": [
    "query_tokens = {}\n",
    "def create_bool_overlap(bar):\n",
    "    nm = 1\n",
    "    for r in bar: \n",
    "        print(r)\n",
    "        x = []\n",
    "        for i in range(0,11):\n",
    "            x_i = []\n",
    "            for k, v in get_best_run().items():   \n",
    "                x_i.append(calculate_overlap(topics[k][r][i]['terms'], topics[k]['query_tokens'][v['query']]))\n",
    "               \n",
    "            x.append(np.mean(x_i))\n",
    "        plt.plot(np.arange(0.0, 1.1, 0.1), x, linewidth=4, marker='o', markersize=6, label=run_names[nm - 1], linestyle='--', dashes=(nm,1))\n",
    "        \n",
    "        plt.xlabel(\"$r$\",fontsize=30)\n",
    "        plt.ylabel(\"Overlap\",fontsize=30)\n",
    "        plt.ylim((0, 0.6))\n",
    "        # plt.xlim((0, 1.0))\n",
    "        plt.tick_params(labelsize=20)\n",
    "        plt.legend(fontsize=18)\n",
    "        nm += 1\n",
    "    plt.show()\n",
    "\n",
    "def create_key_overlap(runs):\n",
    "    nm = 1\n",
    "    for r in runs:\n",
    "        print(r)  \n",
    "        x = []\n",
    "        for i in range(0,11):\n",
    "            x_i = []\n",
    "            for k, v in get_best_run().items():\n",
    "                x_i.append(calculate_overlap(topics[k][r][i]['terms'], topics[k]['keyword_tokens']))\n",
    "            x.append(np.mean(x_i))\n",
    "        \n",
    "        plt.plot(np.arange(0.0, 1.1, 0.1), x, linewidth=4, marker='o', markersize=6, label=run_names[nm - 1], linestyle='--', dashes=(nm,1))\n",
    "        plt.xlabel(\"$r$\",fontsize=30)\n",
    "        plt.ylabel(\"Overlap\",fontsize=30)\n",
    "        plt.ylim((0, 0.6))\n",
    "        # ax.axes.get_xaxis().set_ticks([])\n",
    "        plt.tick_params(labelsize=20)\n",
    "        plt.legend(fontsize=18)\n",
    "        nm += 1\n",
    "    plt.show()"
   ]
  },
  {
   "cell_type": "code",
   "execution_count": 9,
   "metadata": {},
   "outputs": [
    {
     "name": "stdout",
     "output_type": "stream",
     "text": [
      "idfs_auto_query_terms\n",
      "idfp_auto_query_terms\n",
      "klis_auto_query_terms\n",
      "klip_auto_query_terms\n",
      "plms_5_auto_query_terms\n",
      "plmp_5_auto_query_terms\n"
     ]
    },
    {
     "data": {
      "application/pdf": "[encoded data removed]",
      "text/plain": [
       "<matplotlib.figure.Figure at 0x10b33feb8>"
      ]
     },
     "metadata": {},
     "output_type": "display_data"
    },
    {
     "name": "stdout",
     "output_type": "stream",
     "text": [
      "idfs_auto_query_terms\n",
      "idfp_auto_query_terms\n",
      "klis_auto_query_terms\n",
      "klip_auto_query_terms\n",
      "plms_5_auto_query_terms\n",
      "plmp_5_auto_query_terms\n"
     ]
    },
    {
     "data": {
      "application/pdf": "[encoded data removed]",
      "text/plain": [
       "<matplotlib.figure.Figure at 0x10b614198>"
      ]
     },
     "metadata": {},
     "output_type": "display_data"
    }
   ],
   "source": [
    "create_bool_overlap(keys)\n",
    "create_key_overlap(keys)"
   ]
  },
  {
   "cell_type": "code",
   "execution_count": null,
   "metadata": {
    "collapsed": true
   },
   "outputs": [],
   "source": []
  }
 ],
 "metadata": {
  "kernelspec": {
   "display_name": "Python 3",
   "language": "python",
   "name": "python3"
  },
  "language_info": {
   "codemirror_mode": {
    "name": "ipython",
    "version": 3
   },
   "file_extension": ".py",
   "mimetype": "text/x-python",
   "name": "python",
   "nbconvert_exporter": "python",
   "pygments_lexer": "ipython3",
   "version": "3.6.1"
  }
 },
 "nbformat": 4,
 "nbformat_minor": 2
}
