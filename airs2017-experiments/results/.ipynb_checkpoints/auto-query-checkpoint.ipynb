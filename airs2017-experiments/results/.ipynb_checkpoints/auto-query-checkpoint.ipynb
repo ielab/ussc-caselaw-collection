{
 "cells": [
  {
   "cell_type": "code",
   "execution_count": 1,
   "metadata": {
    "collapsed": true
   },
   "outputs": [],
   "source": [
    "# import everything as needed\n",
    "%matplotlib inline\n",
    "# %matplotlib notebook\n",
    "\n",
    "import numpy as np\n",
    "from matplotlib import pyplot as plt\n",
    "import matplotlib as mpl\n",
    "from matplotlib import cm\n",
    "from mpl_toolkits.mplot3d import Axes3D, axes3d\n",
    "import pandas as pd\n",
    "import seaborn as sns\n",
    "import scipy.stats as stats\n",
    "import math\n",
    "\n",
    "from operator import itemgetter\n",
    "\n",
    "from irkit.trec import qrels\n",
    "from irkit.trec import results\n",
    "from irkit.trec import run\n",
    "\n",
    "from IPython.display import set_matplotlib_formats\n",
    "set_matplotlib_formats('pdf')\n",
    "\n",
    "#Set general plot properties\n",
    "sns.set()\n",
    "sns.set_context(\"paper\")\n",
    "sns.set_color_codes(\"pastel\")\n",
    "\n",
    "sns.set_context({\"figure.figsize\": (16, 10)})\n",
    "plt.style.use('grayscale')\n",
    "plt.style.use('seaborn-white')"
   ]
  },
  {
   "cell_type": "code",
   "execution_count": 2,
   "metadata": {
    "collapsed": true
   },
   "outputs": [],
   "source": [
    "def fill_empty_row(df):\n",
    "    topic_not_found = set()\n",
    "    for i in range(1, 101):\n",
    "        topic_not_found.add(i)\n",
    "\n",
    "    for row in df.iterrows():\n",
    "        topic_not_found.remove(row[0])\n",
    "        \n",
    "    num_colls = len(df.columns)\n",
    "    for row in topic_not_found: \n",
    "        df.loc[row] = (0) * num_colls\n",
    "\n",
    "def extract_runs(runs):\n",
    "    results = {}\n",
    "    proportion = range(1,11)\n",
    "    for run in runs:\n",
    "        y = []\n",
    "        for p in proportion:\n",
    "            with open('res-files/{}{}_standard.csv'.format(run, p), 'r') as f:\n",
    "                df = pd.DataFrame.from_csv(f)\n",
    "                fill_empty_row(df)\n",
    "                y.append(np.mean(df[' map']).round(4))\n",
    "        results[run] = y\n",
    "    return results\n"
   ]
  },
  {
   "cell_type": "code",
   "execution_count": 3,
   "metadata": {
    "collapsed": true
   },
   "outputs": [],
   "source": [
    "para_runs = ['klip', 'idfp']\n",
    "sent_runs = ['klis', 'idfs']\n",
    "\n",
    "para_results = extract_runs(para_runs)\n",
    "sent_results = extract_runs(sent_runs)"
   ]
  },
  {
   "cell_type": "code",
   "execution_count": 4,
   "metadata": {
    "collapsed": true
   },
   "outputs": [],
   "source": [
    "runs = ['plmp', 'plms']\n",
    "#change this back to 11 to get the 3d plot working\n",
    "proportion = list(range(1,11))\n",
    "smoothing = list(range(1,11))\n",
    "results = {}\n",
    "for run in runs:\n",
    "    z = []\n",
    "    for p in proportion:\n",
    "        z_i = []\n",
    "        for s in smoothing:\n",
    "            with open('res-files/{}{}_{}_standard.csv'.format(run, p, s), 'r') as f:\n",
    "                df = pd.DataFrame.from_csv(f)\n",
    "                fill_empty_row(df)\n",
    "                z_i.append(np.mean(df[' map'].round(4)))\n",
    "\n",
    "        z.append(z_i)\n",
    "    results[run] = z"
   ]
  },
  {
   "cell_type": "code",
   "execution_count": 5,
   "metadata": {
    "scrolled": true
   },
   "outputs": [
    {
     "name": "stdout",
     "output_type": "stream",
     "text": [
      "[10, 9, 9]\n",
      "[7, 8, 7]\n"
     ]
    }
   ],
   "source": [
    "## Get the proportion for the best results \n",
    "def sel_max(arr):\n",
    "    max_ind = 0\n",
    "    max_val = 0\n",
    "    for i in range(0, len(arr)):\n",
    "        if arr[i] > max_val:\n",
    "            ## add 1 so that open file with this proportion.. \n",
    "            max_ind = i + 1\n",
    "            max_val = arr[i]\n",
    "    return max_ind\n",
    "\n",
    "idfs_max = sel_max(sent_results['idfs'])\n",
    "klis_max = sel_max(sent_results['klis'])\n",
    "plms_max = sel_max([x[4] for x in results['plms']])\n",
    "\n",
    "best_sen_runs = [\"idfs\", \"klis\", \"plms\"]\n",
    "best_para_runs = [\"idfp\", \"klip\", \"plmp\"]\n",
    "max_sen_prop = [idfs_max, klis_max, plms_max]\n",
    "idfp_max = sel_max(para_results['idfp'])\n",
    "klip_max = sel_max(para_results['klip'])\n",
    "plmp_max = sel_max([x[4] for x in results['plmp']])\n",
    "max_para_prop = [idfp_max, klip_max, plmp_max]\n",
    "\n",
    "print(max_sen_prop)\n",
    "print(max_para_prop)"
   ]
  },
  {
   "cell_type": "code",
   "execution_count": 6,
   "metadata": {
    "collapsed": true
   },
   "outputs": [],
   "source": [
    "def get_runs(runs, runs_prop, para):\n",
    "    res = []\n",
    "    for i in range(len(runs)):\n",
    "        filename = \"\"\n",
    "        recip_file = \"\"\n",
    "        if runs[i] == \"plms\" or runs[i] == \"plmp\":\n",
    "            filename = \"res-files/{}{}_{}_standard.csv\".format(runs[i], runs_prop[i], 4)\n",
    "            recip_file = \"res-files/{}{}_{}_recip.csv\".format(runs[i], runs_prop[i], 4)\n",
    "        else:\n",
    "            filename = \"res-files/{}{}_standard.csv\".format(runs[i], runs_prop[i])\n",
    "            recip_file = 'res-files/{}{}_recip.csv'.format(runs[i], runs_prop[i])\n",
    "\n",
    "        with open(filename, 'r') as f:\n",
    "            df = pd.DataFrame.from_csv(f)\n",
    "            fill_empty_row(df)\n",
    "            # - 1 to get real proportion\n",
    "            if para:\n",
    "                df['r'] = (max_para_prop[i] - 1) / 10\n",
    "            else:\n",
    "                df['r'] = (max_sen_prop[i] - 1) / 10\n",
    "            with open(recip_file, 'r') as f2:\n",
    "                df2 = pd.DataFrame.from_csv(f2)\n",
    "                fill_empty_row(df2)\n",
    "                df['mrr'] = df2\n",
    "\n",
    "            res.append(np.mean(df))\n",
    "    return res\n",
    "\n",
    "best_sen = get_runs(best_sen_runs, max_sen_prop, False)\n",
    "best_para = get_runs(best_para_runs, max_para_prop, True)"
   ]
  },
  {
   "cell_type": "code",
   "execution_count": 7,
   "metadata": {
    "scrolled": false
   },
   "outputs": [
    {
     "name": "stdout",
     "output_type": "stream",
     "text": [
      "\\begin{tabular}{lrrrrr}\n",
      "\\toprule\n",
      "{} &    r &   P@1 &    P@5 &    AP@5 &     MRR \\\\\n",
      "\\midrule\n",
      "idf(s) &  0.9 &  0.68 &  0.454 &  0.2958 &  0.7485 \\\\\n",
      "kli(s) &  0.8 &  0.69 &  0.454 &  0.2974 &  0.7558 \\\\\n",
      "plm(s) &  0.8 &  0.69 &  0.456 &  0.2987 &  0.7562 \\\\\n",
      "idf(p) &  0.6 &  0.68 &  0.448 &  0.3053 &  0.7539 \\\\\n",
      "kli(p) &  0.7 &  0.70 &  0.442 &  0.3068 &  0.7652 \\\\\n",
      "plm(p) &  0.6 &  0.69 &  0.464 &  0.3114 &  0.7597 \\\\\n",
      "\\bottomrule\n",
      "\\end{tabular}\n",
      "\n"
     ]
    }
   ],
   "source": [
    "auto_res = pd.concat([x for x in best_sen] + [x for x in best_para], axis=1)\n",
    "auto_res = auto_res.T\n",
    "# auto_res.columns = [\"p_1\", \"p_5\", \"mrr\", \"bpref\", \"nrr\", \"nr\", 'r']\n",
    "# auto_res = auto_res.drop([\"bpref\", \"nrr\", \"nr\",], 1)\n",
    "auto_res = auto_res[[\"r\",\" P_1\", \" P_5\", \" map\", 'mrr']]\n",
    "auto_res = auto_res.rename({0:\"idf(s)\", 1:\"kli(s)\", 2:\"plm(s)\", 3:\"idf(p)\", 4: \"kli(p)\", 5:\"plm(p)\"})\n",
    "auto_res.columns = [\"r\", \"P@1\", \"P@5\", \"AP@5\",\"MRR\"]\n",
    "print(auto_res.round(4).to_latex())"
   ]
  },
  {
   "cell_type": "code",
   "execution_count": 8,
   "metadata": {
    "collapsed": true,
    "scrolled": true
   },
   "outputs": [],
   "source": [
    "def get_full_runs(runs, runs_prop):\n",
    "    res = {}\n",
    "    for i in range(len(runs)):\n",
    "        res[i] = {}\n",
    "        filename = \"\"\n",
    "        recip_file = \"\"\n",
    "        if runs[i] == \"plms\" or runs[i] == \"plmp\":\n",
    "            filename = \"res-files/{}{}_{}_standard.csv\".format(runs[i], runs_prop[i], 4)\n",
    "            recip_file = \"res-files/{}{}_{}_recip.csv\".format(runs[i], runs_prop[i], 4)\n",
    "        else:\n",
    "            filename = \"res-files/{}{}_standard.csv\".format(runs[i], runs_prop[i])\n",
    "            recip_file = 'res-files/{}{}_recip.csv'.format(runs[i], runs_prop[i])\n",
    "\n",
    "        with open(filename, 'r') as f:\n",
    "            df = pd.DataFrame.from_csv(f)\n",
    "            fill_empty_row(df)\n",
    "            for y in df.iterrows():\n",
    "                res[i][int(y[0])] = {'P1': y[1][' P_1'],\n",
    "                                                       'P5': y[1][' P_5'],\n",
    "                                                       'MAP': y[1][' map']}\n",
    "    \n",
    "        with open(recip_file, 'r') as f:\n",
    "            df = pd.DataFrame.from_csv(f)\n",
    "            fill_empty_row(df)\n",
    "            for y in df.iterrows():\n",
    "                row = res[i][int(y[0])]\n",
    "                row['MRR'] = y[1][' recip_rank']\n",
    "                res[i][int(y[0])] = row\n",
    "\n",
    "    return res\n",
    "\n",
    "def get_full_top_run(run):\n",
    "    res = {}\n",
    "    with open('res-files/{}_standard.csv'.format(run), 'r') as f:\n",
    "        df = pd.DataFrame().from_csv(f)\n",
    "        fill_empty_row(df)\n",
    "        for y in df.iterrows():\n",
    "            res[int(y[0])] = {'P1': y[1][' P_1'],\n",
    "                                                       'P5': y[1][' P_5'],\n",
    "                                                      'MAP': y[1][' map']}\n",
    "            \n",
    "    with open('res-files/{}_recip.csv'.format(run), 'r') as f:\n",
    "        df = pd.DataFrame.from_csv(f)\n",
    "        fill_empty_row(df)\n",
    "        for y in df.iterrows():\n",
    "            row = res[int(y[0])]\n",
    "            row['MRR'] = y[1][' recip_rank']\n",
    "            res[int(y[0])] = row\n",
    "                \n",
    "    return res"
   ]
  },
  {
   "cell_type": "code",
   "execution_count": 9,
   "metadata": {
    "collapsed": true
   },
   "outputs": [],
   "source": [
    "best_sen_t = get_full_runs(best_sen_runs, max_sen_prop)\n",
    "best_para_t = get_full_runs(best_para_runs, max_para_prop)\n",
    "\n",
    "topsen_df = get_full_top_run(\"topsen\")\n",
    "toppar_df = get_full_top_run(\"toppar\")"
   ]
  },
  {
   "cell_type": "code",
   "execution_count": 10,
   "metadata": {},
   "outputs": [
    {
     "name": "stdout",
     "output_type": "stream",
     "text": [
      "T-tests for auto queries\n",
      "\n",
      "idfs topsen_df\n",
      "p1 1.0\n",
      "p5 0.108656415637\n",
      "mrr 0.725716908893\n",
      "map 0.474607436774\n",
      "\n",
      "klis topsen_df\n",
      "p1 0.5663155081\n",
      "p5 0.0704938575658\n",
      "mrr 0.760991664729\n",
      "map 0.569448237084\n",
      "\n",
      "plms topsen_df\n",
      "p1 0.5663155081\n",
      "p5 0.181025140233\n",
      "mrr 0.735905776043\n",
      "map 0.569448237084\n",
      "\n",
      "******************************\n",
      "\n",
      "idfp toppar_df\n",
      "p1 0.0957526250302\n",
      "p5 0.00415802403636\n",
      "mrr 0.026031756362\n",
      "map 0.00162036940356\n",
      "\n",
      "klip toppar_df\n",
      "p1 0.319748474139\n",
      "p5 0.00230396571269\n",
      "mrr 0.093675375096\n",
      "map 0.00416518411283\n",
      "\n",
      "plmp toppar_df\n",
      "p1 0.10274631195\n",
      "p5 0.0318012640818\n",
      "mrr 0.0359298680376\n",
      "map 0.00748197998849\n",
      "\n"
     ]
    }
   ],
   "source": [
    "print(\"T-tests for auto queries\")\n",
    "print()\n",
    "print('idfs', 'topsen_df')\n",
    "print('p1', stats.ttest_rel([best_sen_t[0][x]['P1'] for x in range(1, 101)], [topsen_df[x]['P1'] for x in range(1, 101)]).pvalue)\n",
    "print('p5', stats.ttest_rel([best_sen_t[0][x]['P5'] for x in range(1, 101)], [topsen_df[x]['P5'] for x in range(1, 101)]).pvalue)\n",
    "print('mrr', stats.ttest_rel([best_sen_t[0][x]['MRR'] for x in range(1, 101)], [topsen_df[x]['MRR'] for x in range(1, 101)]).pvalue)\n",
    "print('map', stats.ttest_rel([best_sen_t[0][x]['MAP'] for x in range(1, 101)], [topsen_df[x]['MAP'] for x in range(1, 101)]).pvalue)\n",
    "print()\n",
    "print('klis', 'topsen_df')\n",
    "print('p1', stats.ttest_rel([best_sen_t[1][x]['P1'] for x in range(1, 101)], [topsen_df[x]['P1'] for x in range(1, 101)]).pvalue)\n",
    "print('p5', stats.ttest_rel([best_sen_t[1][x]['P5'] for x in range(1, 101)], [topsen_df[x]['P5'] for x in range(1, 101)]).pvalue)\n",
    "print('mrr', stats.ttest_rel([best_sen_t[1][x]['MRR'] for x in range(1, 101)], [topsen_df[x]['MRR'] for x in range(1, 101)]).pvalue)\n",
    "print('map', stats.ttest_rel([best_sen_t[1][x]['MAP'] for x in range(1, 101)], [topsen_df[x]['MAP'] for x in range(1, 101)]).pvalue)\n",
    "print()\n",
    "print('plms', 'topsen_df')\n",
    "print('p1', stats.ttest_rel([best_sen_t[2][x]['P1'] for x in range(1, 101)], [topsen_df[x]['P1'] for x in range(1, 101)]).pvalue)\n",
    "print('p5', stats.ttest_rel([best_sen_t[2][x]['P5'] for x in range(1, 101)], [topsen_df[x]['P5'] for x in range(1, 101)]).pvalue)\n",
    "print('mrr', stats.ttest_rel([best_sen_t[2][x]['MRR'] for x in range(1, 101)], [topsen_df[x]['MRR'] for x in range(1, 101)]).pvalue)\n",
    "print('map', stats.ttest_rel([best_sen_t[1][x]['MAP'] for x in range(1, 101)], [topsen_df[x]['MAP'] for x in range(1, 101)]).pvalue)\n",
    "print()\n",
    "print(\"*\"*30)\n",
    "print()\n",
    "print('idfp', 'toppar_df')\n",
    "print('p1', stats.ttest_rel([best_para_t[0][x]['P1'] for x in range(1, 101)], [toppar_df[x]['P1'] for x in range(1, 101)]).pvalue)\n",
    "print('p5', stats.ttest_rel([best_para_t[0][x]['P5'] for x in range(1, 101)], [toppar_df[x]['P5'] for x in range(1, 101)]).pvalue)\n",
    "print('mrr', stats.ttest_rel([best_para_t[0][x]['MRR'] for x in range(1, 101)], [toppar_df[x]['MRR'] for x in range(1, 101)]).pvalue)\n",
    "print('map', stats.ttest_rel([best_para_t[0][x]['MAP'] for x in range(1, 101)], [toppar_df[x]['MAP'] for x in range(1, 101)]).pvalue)\n",
    "print()\n",
    "print('klip', 'toppar_df')\n",
    "print('p1', stats.ttest_rel([best_para_t[1][x]['P1'] for x in range(1, 101)], [toppar_df[x]['P1'] for x in range(1, 101)]).pvalue)\n",
    "print('p5', stats.ttest_rel([best_para_t[1][x]['P5'] for x in range(1, 101)], [toppar_df[x]['P5'] for x in range(1, 101)]).pvalue)\n",
    "print('mrr', stats.ttest_rel([best_para_t[1][x]['MRR'] for x in range(1, 101)], [toppar_df[x]['MRR'] for x in range(1, 101)]).pvalue)\n",
    "print('map', stats.ttest_rel([best_para_t[1][x]['MAP'] for x in range(1, 101)], [toppar_df[x]['MAP'] for x in range(1, 101)]).pvalue)\n",
    "print()\n",
    "print('plmp', 'toppar_df')\n",
    "print('p1', stats.ttest_rel([best_para_t[2][x]['P1'] for x in range(1, 101)], [toppar_df[x]['P1'] for x in range(1, 101)]).pvalue)\n",
    "print('p5', stats.ttest_rel([best_para_t[2][x]['P5'] for x in range(1, 101)], [toppar_df[x]['P5'] for x in range(1, 101)]).pvalue)\n",
    "print('mrr', stats.ttest_rel([best_para_t[2][x]['MRR'] for x in range(1, 101)], [toppar_df[x]['MRR'] for x in range(1, 101)]).pvalue)\n",
    "print('map', stats.ttest_rel([best_para_t[2][x]['MAP'] for x in range(1, 101)], [toppar_df[x]['MAP'] for x in range(1, 101)]).pvalue)\n",
    "print()"
   ]
  },
  {
   "cell_type": "code",
   "execution_count": null,
   "metadata": {
    "collapsed": true
   },
   "outputs": [],
   "source": []
  }
 ],
 "metadata": {
  "kernelspec": {
   "display_name": "Python 3",
   "language": "python",
   "name": "python3"
  },
  "language_info": {
   "codemirror_mode": {
    "name": "ipython",
    "version": 3
   },
   "file_extension": ".py",
   "mimetype": "text/x-python",
   "name": "python",
   "nbconvert_exporter": "python",
   "pygments_lexer": "ipython3",
   "version": "3.6.1"
  }
 },
 "nbformat": 4,
 "nbformat_minor": 2
}
